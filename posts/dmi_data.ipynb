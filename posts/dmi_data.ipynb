{
 "cells": [
  {
   "cell_type": "markdown",
   "metadata": {},
   "source": [
    "# DMI API Tutorial\n",
    "\n",
    "This tutorial gives an introduction on how to use the [Danish Meteorological Institute's (DMI) API](https://confluence.govcloud.dk/display/FDAPI) to download meterological observation data (v2).\n",
    "\n",
    "The tutorial uses the Python programming language and is in the format of a Jupyter Notebook. The notebook can be downloaded and run locally, allowing you to quickly get started downloading data.\n",
    "\n",
    "\n",
    "If you're new to the DMI observation data, I recommend that you check out some of the following links:\n",
    "1. [Station numbers](https://confluence.govcloud.dk/pages/viewpage.action?pageId=41717704)\n",
    "2. [Parameters](https://confluence.govcloud.dk/pages/viewpage.action?pageId=26476616)\n",
    "3. [Codes](https://confluence.govcloud.dk/pages/viewpage.action?pageId=26476621)\n",
    "4. [FAQ](https://confluence.govcloud.dk/display/FDAPI/FAQ)\n",
    "5. [Terms of use](https://confluence.govcloud.dk/display/FDAPI/Terms+of+Use)\n",
    "6. [Operational status](https://statuspage.freshping.io/25721-DMIOpenDatas)\n",
    "7. [User creation](https://confluence.govcloud.dk/pages/viewpage.action?pageId=26476690)\n",
    "\n",
    "<br>\n",
    "\n",
    "## Part 1: Retrieving data\n",
    "Part 1 of this tutorial will show how to request data and convert it to a table format. Part 2 will deal with how to request specific data and more advanced data handling.\n",
    "\n",
    "First, the necessary libraries have to be imported:"
   ]
  },
  {
   "cell_type": "code",
   "execution_count": 8,
   "metadata": {},
   "outputs": [],
   "source": [
    "import requests # library for making HTTP requests\n",
    "import pandas as pd # library for data analysis\n",
    "import datetime as dt # library for handling date and time objects"
   ]
  },
  {
   "cell_type": "markdown",
   "metadata": {},
   "source": [
    "<br>\n",
    "\n",
    "In order to access the API it is necessary to create a user and obtain an api-key. This api-key grants permission to retrieve data and allows DMI to generate usage statistics.\n",
    "\n",
    "A guide to creating a user profile and getting an api-key can be found [here](https://confluence.govcloud.dk/pages/viewpage.action?pageId=26476690).\n",
    "\n"
   ]
  },
  {
   "cell_type": "code",
   "execution_count": 2,
   "metadata": {},
   "outputs": [],
   "source": [
    "api_key = 'xxxxxxxx-yyyy-zzzz-iiii-jjjjjjjjjjjj' # insert your own key between the '' signs"
   ]
  },
  {
   "cell_type": "code",
   "execution_count": 9,
   "metadata": {
    "tags": [
     "remove-cell"
    ]
   },
   "outputs": [],
   "source": [
    "# Delete this cell if you run the notebook locally\n",
    "import os\n",
    "api_key = os.environ[\"DMI_API_KEY\"]"
   ]
  },
  {
   "cell_type": "markdown",
   "metadata": {},
   "source": [
    "An easy test to see if your api-key works is to paste the following url into your browswer followed by a question mark and your api-key, e.g.: https://dmigw.govcloud.dk/metObs/v1/observation?api-key=xxxxxxxx-yyyy-zzzz-iiii-jjjjjjjjjjjj (the example API key error).\n",
    "\n",
    "If you have obtained an api-key and pasted it correctly, a page with data will be shown.\n",
    "<br><br>\n",
    "\n",
    "In the following code block, data is retrieved using the ``requests.get`` function. Further information on REST APIs and HTTP request methods can be found [here](https://restfulapi.net/http-methods/).\n"
   ]
  },
  {
   "cell_type": "code",
   "execution_count": 10,
   "metadata": {},
   "outputs": [
    {
     "name": "stdout",
     "output_type": "stream",
     "text": [
      "<Response [200]> https://dmigw.govcloud.dk/v2/metObs/collections/observation/items?api-key=380d1f5b-3862-49e1-af1f-08ae0b51ed9a\n"
     ]
    }
   ],
   "source": [
    "DMI_URL = 'https://dmigw.govcloud.dk/v2/metObs/collections/observation/items'\n",
    "r = requests.get(DMI_URL, params={'api-key': api_key}) # Issues a HTTP GET request\n",
    "print(r, r.url)"
   ]
  },
  {
   "cell_type": "markdown",
   "metadata": {},
   "source": [
    "<br/>\n",
    "\n",
    "The [response status code](https://en.wikipedia.org/wiki/List_of_HTTP_status_codes) indicates whether the request was successful or not. A 200 code means that the retrieval was successful. \n",
    "<br/><br/>\n",
    "\n",
    "\n",
    "Next, we extract the JSON file containing the data from the returned request object. [JSON](https://restfulapi.net/introduction-to-json/) is a human-readable format for data exchange.\n"
   ]
  },
  {
   "cell_type": "code",
   "execution_count": 11,
   "metadata": {},
   "outputs": [
    {
     "name": "stdout",
     "output_type": "stream",
     "text": [
      "dict_keys(['type', 'features', 'timeStamp', 'numberReturned', 'links'])\n"
     ]
    }
   ],
   "source": [
    "json = r.json()  # Extract JSON data\n",
    "print(json.keys())  # Print the keys of the JSON dictionary"
   ]
  },
  {
   "cell_type": "markdown",
   "metadata": {},
   "source": [
    "<br/>\n",
    "When inspecting the json object, it can be noticed that the measurement data is contained within the features:"
   ]
  },
  {
   "cell_type": "code",
   "execution_count": 12,
   "metadata": {},
   "outputs": [
    {
     "data": {
      "text/plain": [
       "[{'geometry': {'coordinates': [8.0828, 55.5575], 'type': 'Point'},\n",
       "  'id': '00000001-30ad-ae74-5b33-7ef0a1a6ef92',\n",
       "  'type': 'Feature',\n",
       "  'properties': {'created': '2021-01-20T01:07:45.306987Z',\n",
       "   'observed': '2015-09-11T10:10:00Z',\n",
       "   'parameterId': 'temp_dew',\n",
       "   'stationId': '06081',\n",
       "   'value': 11.4}},\n",
       " {'geometry': {'coordinates': [11.3879, 55.3224], 'type': 'Point'},\n",
       "  'id': '00000005-79f9-4ab8-6905-bec39ce37f54',\n",
       "  'type': 'Feature',\n",
       "  'properties': {'created': '2021-01-19T19:59:19.893994Z',\n",
       "   'observed': '2010-08-10T03:30:00Z',\n",
       "   'parameterId': 'humidity',\n",
       "   'stationId': '06135',\n",
       "   'value': 100.0}}]"
      ]
     },
     "execution_count": 12,
     "metadata": {},
     "output_type": "execute_result"
    }
   ],
   "source": [
    "json['features'][:2]"
   ]
  },
  {
   "cell_type": "markdown",
   "metadata": {},
   "source": [
    "<br/>\n",
    "\n",
    "The JSON object can be converted to a convenient table (pandas DataFrame) using ``pd.json_normalize``:"
   ]
  },
  {
   "cell_type": "code",
   "execution_count": 13,
   "metadata": {},
   "outputs": [
    {
     "data": {
      "text/html": [
       "<div>\n",
       "<style scoped>\n",
       "    .dataframe tbody tr th:only-of-type {\n",
       "        vertical-align: middle;\n",
       "    }\n",
       "\n",
       "    .dataframe tbody tr th {\n",
       "        vertical-align: top;\n",
       "    }\n",
       "\n",
       "    .dataframe thead th {\n",
       "        text-align: right;\n",
       "    }\n",
       "</style>\n",
       "<table border=\"1\" class=\"dataframe\">\n",
       "  <thead>\n",
       "    <tr style=\"text-align: right;\">\n",
       "      <th></th>\n",
       "      <th>id</th>\n",
       "      <th>type</th>\n",
       "      <th>geometry.coordinates</th>\n",
       "      <th>geometry.type</th>\n",
       "      <th>properties.created</th>\n",
       "      <th>properties.observed</th>\n",
       "      <th>properties.parameterId</th>\n",
       "      <th>properties.stationId</th>\n",
       "      <th>properties.value</th>\n",
       "      <th>geometry</th>\n",
       "    </tr>\n",
       "  </thead>\n",
       "  <tbody>\n",
       "    <tr>\n",
       "      <th>0</th>\n",
       "      <td>00000001-30ad-ae74-5b33-7ef0a1a6ef92</td>\n",
       "      <td>Feature</td>\n",
       "      <td>[8.0828, 55.5575]</td>\n",
       "      <td>Point</td>\n",
       "      <td>2021-01-20T01:07:45.306987Z</td>\n",
       "      <td>2015-09-11T10:10:00Z</td>\n",
       "      <td>temp_dew</td>\n",
       "      <td>06081</td>\n",
       "      <td>11.4</td>\n",
       "      <td>NaN</td>\n",
       "    </tr>\n",
       "    <tr>\n",
       "      <th>1</th>\n",
       "      <td>00000005-79f9-4ab8-6905-bec39ce37f54</td>\n",
       "      <td>Feature</td>\n",
       "      <td>[11.3879, 55.3224]</td>\n",
       "      <td>Point</td>\n",
       "      <td>2021-01-19T19:59:19.893994Z</td>\n",
       "      <td>2010-08-10T03:30:00Z</td>\n",
       "      <td>humidity</td>\n",
       "      <td>06135</td>\n",
       "      <td>100.0</td>\n",
       "      <td>NaN</td>\n",
       "    </tr>\n",
       "    <tr>\n",
       "      <th>2</th>\n",
       "      <td>0000000e-638e-5ce8-2dab-0a16387eb3e9</td>\n",
       "      <td>Feature</td>\n",
       "      <td>[8.6705, 56.383]</td>\n",
       "      <td>Point</td>\n",
       "      <td>2021-01-20T04:33:51.105632Z</td>\n",
       "      <td>2005-08-22T06:00:00Z</td>\n",
       "      <td>temp_max_past12h</td>\n",
       "      <td>06056</td>\n",
       "      <td>16.6</td>\n",
       "      <td>NaN</td>\n",
       "    </tr>\n",
       "    <tr>\n",
       "      <th>3</th>\n",
       "      <td>0000000e-fa0d-c953-0901-0856867a22bb</td>\n",
       "      <td>Feature</td>\n",
       "      <td>[11.6035, 55.7358]</td>\n",
       "      <td>Point</td>\n",
       "      <td>2021-01-19T18:58:26.121240Z</td>\n",
       "      <td>2014-04-08T17:10:00Z</td>\n",
       "      <td>pressure_at_sea</td>\n",
       "      <td>06156</td>\n",
       "      <td>1006.3</td>\n",
       "      <td>NaN</td>\n",
       "    </tr>\n",
       "    <tr>\n",
       "      <th>4</th>\n",
       "      <td>00000011-f0bb-b0c9-743c-712306e63470</td>\n",
       "      <td>Feature</td>\n",
       "      <td>[11.3292, 54.8275]</td>\n",
       "      <td>Point</td>\n",
       "      <td>2021-01-19T14:04:53.308204Z</td>\n",
       "      <td>2003-06-13T09:00:00Z</td>\n",
       "      <td>wind_speed</td>\n",
       "      <td>06141</td>\n",
       "      <td>5.0</td>\n",
       "      <td>NaN</td>\n",
       "    </tr>\n",
       "  </tbody>\n",
       "</table>\n",
       "</div>"
      ],
      "text/plain": [
       "                                     id     type geometry.coordinates  \\\n",
       "0  00000001-30ad-ae74-5b33-7ef0a1a6ef92  Feature    [8.0828, 55.5575]   \n",
       "1  00000005-79f9-4ab8-6905-bec39ce37f54  Feature   [11.3879, 55.3224]   \n",
       "2  0000000e-638e-5ce8-2dab-0a16387eb3e9  Feature     [8.6705, 56.383]   \n",
       "3  0000000e-fa0d-c953-0901-0856867a22bb  Feature   [11.6035, 55.7358]   \n",
       "4  00000011-f0bb-b0c9-743c-712306e63470  Feature   [11.3292, 54.8275]   \n",
       "\n",
       "  geometry.type           properties.created   properties.observed  \\\n",
       "0         Point  2021-01-20T01:07:45.306987Z  2015-09-11T10:10:00Z   \n",
       "1         Point  2021-01-19T19:59:19.893994Z  2010-08-10T03:30:00Z   \n",
       "2         Point  2021-01-20T04:33:51.105632Z  2005-08-22T06:00:00Z   \n",
       "3         Point  2021-01-19T18:58:26.121240Z  2014-04-08T17:10:00Z   \n",
       "4         Point  2021-01-19T14:04:53.308204Z  2003-06-13T09:00:00Z   \n",
       "\n",
       "  properties.parameterId properties.stationId  properties.value  geometry  \n",
       "0               temp_dew                06081              11.4       NaN  \n",
       "1               humidity                06135             100.0       NaN  \n",
       "2       temp_max_past12h                06056              16.6       NaN  \n",
       "3        pressure_at_sea                06156            1006.3       NaN  \n",
       "4             wind_speed                06141               5.0       NaN  "
      ]
     },
     "execution_count": 13,
     "metadata": {},
     "output_type": "execute_result"
    }
   ],
   "source": [
    "df = pd.json_normalize(json['features'])  # Convert JSON object to a Pandas DataFrame\n",
    "df.head()  # Print the first five rows of the DataFrame"
   ]
  },
  {
   "cell_type": "markdown",
   "metadata": {},
   "source": [
    "<br/>\n",
    "\n",
    "The timestamps strings can be converted to a datetime object using the pandas ``to_datetime`` function."
   ]
  },
  {
   "cell_type": "code",
   "execution_count": 14,
   "metadata": {},
   "outputs": [
    {
     "data": {
      "text/plain": [
       "0   2015-09-11 10:10:00+00:00\n",
       "1   2010-08-10 03:30:00+00:00\n",
       "2   2005-08-22 06:00:00+00:00\n",
       "3   2014-04-08 17:10:00+00:00\n",
       "4   2003-06-13 09:00:00+00:00\n",
       "Name: time, dtype: datetime64[ns, UTC]"
      ]
     },
     "execution_count": 14,
     "metadata": {},
     "output_type": "execute_result"
    }
   ],
   "source": [
    "df['time'] = pd.to_datetime(df['properties.observed'])\n",
    "df['time'].head()  # Print the first five timestamps"
   ]
  },
  {
   "cell_type": "markdown",
   "metadata": {},
   "source": [
    "<br/>\n",
    "Last, we will generate a list of all the available parameters:"
   ]
  },
  {
   "cell_type": "code",
   "execution_count": 15,
   "metadata": {},
   "outputs": [
    {
     "name": "stdout",
     "output_type": "stream",
     "text": [
      "['temp_dew' 'humidity' 'temp_max_past12h' 'pressure_at_sea' 'wind_speed'\n",
      " 'temp_soil_max_past1h' 'weather' 'wind_dir' 'precip_dur_past10min'\n",
      " 'leav_hum_dur_past10min' 'temp_min_past1h' 'precip_past1min' 'pressure'\n",
      " 'temp_dry' 'radia_glob' 'wind_speed_past1h' 'humidity_past1h'\n",
      " 'sun_last10min_glob' 'cloud_cover' 'precip_past1h' 'visib_mean_last10min'\n",
      " 'temp_grass' 'leav_hum_dur_past1h' 'visibility' 'temp_soil'\n",
      " 'temp_soil_min_past1h' 'temp_grass_min_past1h' 'precip_past10min'\n",
      " 'temp_min_past12h' 'wind_max_per10min_past1h' 'temp_max_past1h'\n",
      " 'temp_soil_mean_past1h' 'wind_max' 'wind_dir_past1h' 'precip_dur_past1h'\n",
      " 'cloud_height' 'wind_gust_always_past1h' 'sun_last1h_glob'\n",
      " 'temp_mean_past1h' 'temp_grass_max_past1h' 'snow_depth_man'\n",
      " 'radia_glob_past1h' 'wind_min' 'temp_grass_mean_past1h' 'snow_cover_man']\n"
     ]
    }
   ],
   "source": [
    "parameter_ids = df['properties.parameterId'].unique()  # Generate a list of unique parameter ids\n",
    "print(parameter_ids)  # Print all unique parameter ids"
   ]
  },
  {
   "cell_type": "markdown",
   "metadata": {},
   "source": [
    "<br/><br/>\n",
    "\n",
    "## Part 2: Requesting specific data\n",
    "\n",
    "The above example was a heavily simplied example to illustrate how the API can be accessed. For most applicatios you would want to specify query criterias, such as:\n",
    "1. Meterological stations (e.g. 04320, 06074, etc.)\n",
    "2. Parameters (e.g. wind_speed, humidity, etc.)\n",
    "3. Time frame (to and from time)\n",
    "4. Limit (maximum number of observations)\n"
   ]
  },
  {
   "cell_type": "code",
   "execution_count": 16,
   "metadata": {
    "tags": [
     "hide-cell"
    ]
   },
   "outputs": [],
   "source": [
    "all_stations = [\n",
    "    '04203', '04208', '04214', '04220', '04228', '04242', '04250',\n",
    "    '04253', '04266', '04271', '04272', '04285', '04301', '04312',\n",
    "    '04313', '04320', '04330', '04339', '04351', '04360', '04373',\n",
    "    '04382', '04390', '05005', '05009', '05015', '05031', '05035',\n",
    "    '05042', '05065', '05070', '05075', '05081', '05085', '05089',\n",
    "    '05095', '05105', '05109', '05135', '05140', '05150', '05160',\n",
    "    '05165', '05169', '05185', '05199', '05202', '05205', '05220',\n",
    "    '05225', '05269', '05272', '05276', '05277', '05290', '05296',\n",
    "    '05300', '05305', '05320', '05329', '05343', '05345', '05350',\n",
    "    '05355', '05365', '05375', '05381', '05395', '05400', '05406',\n",
    "    '05408', '05435', '05440', '05450', '05455', '05469', '05499',\n",
    "    '05505', '05510', '05529', '05537', '05545', '05575', '05735',\n",
    "    '05880', '05889', '05935', '05945', '05970', '05986', '05994',\n",
    "    '06019', '06031', '06032', '06041', '06049', '06051', '06052',\n",
    "    '06056', '06058', '06065', '06068', '06072', '06073', '06074',\n",
    "    '06079', '06081', '06082', '06088', '06093', '06096', '06102',\n",
    "    '06116', '06119', '06123', '06124', '06126', '06132', '06135',\n",
    "    '06136', '06138', '06141', '06147', '06149', '06151', '06154',\n",
    "    '06156', '06159', '06168', '06169', '06174', '06181', '06183',\n",
    "    '06184', '06186', '06187', '06188', '06193', '06197', '20000',\n",
    "    '20030', '20055', '20085', '20228', '20279', '20315', '20375',\n",
    "    '20400', '20552', '20561', '20600', '20670', '21020', '21080',\n",
    "    '21100', '21120', '21160', '21208', '21368', '21430', '22020',\n",
    "    '22080', '22162', '22189', '22232', '22410', '23100', '23133',\n",
    "    '23160', '23327', '23360', '24043', '24102', '24142', '24171',\n",
    "    '24380', '24430', '24490', '25045', '25161', '25270', '25339',\n",
    "    '26210', '26340', '26358', '26450', '27008', '27082', '28032',\n",
    "    '28110', '28240', '28280', '28385', '28552', '28590', '29020',\n",
    "    '29194', '29243', '29330', '29440', '30075', '30187', '30215',\n",
    "    '30414', '31040', '31185', '31199', '31259', '31350', '31400',\n",
    "    '31509', '31570', '32110', '32175', '34270', '34320', '34339'\n",
    "]\n",
    "\n",
    "all_parameters = [\n",
    "    # Cloud cover and height\n",
    "    'cloud_cover', 'cloud_height',\n",
    "    # Humdity\n",
    "    'humidity', 'humidity_past1h',\n",
    "    # Precipitation\n",
    "    'precip_past10min', 'precip_past1h', 'precip_past24h',\n",
    "    # Pressure\n",
    "    'pressure', 'pressure_at_sea',\n",
    "    # Radiation\n",
    "    'radia_glob', 'radia_glob_past1h',\n",
    "    # Temperature\n",
    "    'temp_dew', 'temp_dry', 'temp_max_past12h', 'temp_max_past1h',\n",
    "    'temp_mean_past1h', 'temp_min_past12h', 'temp_min_past1h',\n",
    "    # Visibilty and weather\n",
    "    'visib_mean_last10min', 'visibility', 'weather',\n",
    "    # Wind speed and direction\n",
    "    'wind_dir', 'wind_dir_past1h', 'wind_gust_always_past1h', 'wind_max',\n",
    "    'wind_max_per10min_past1h', 'wind_min', 'wind_min_past1h',\n",
    "    'wind_speed', 'wind_speed_past1h',\n",
    "]"
   ]
  },
  {
   "cell_type": "code",
   "execution_count": 17,
   "metadata": {},
   "outputs": [
    {
     "data": {
      "text/html": [
       "<div>\n",
       "<style scoped>\n",
       "    .dataframe tbody tr th:only-of-type {\n",
       "        vertical-align: middle;\n",
       "    }\n",
       "\n",
       "    .dataframe tbody tr th {\n",
       "        vertical-align: top;\n",
       "    }\n",
       "\n",
       "    .dataframe thead tr th {\n",
       "        text-align: left;\n",
       "    }\n",
       "\n",
       "    .dataframe thead tr:last-of-type th {\n",
       "        text-align: right;\n",
       "    }\n",
       "</style>\n",
       "<table border=\"1\" class=\"dataframe\">\n",
       "  <thead>\n",
       "    <tr>\n",
       "      <th>station</th>\n",
       "      <th colspan=\"2\" halign=\"left\">04250</th>\n",
       "      <th colspan=\"2\" halign=\"left\">06188</th>\n",
       "    </tr>\n",
       "    <tr>\n",
       "      <th>parameter</th>\n",
       "      <th>radia_glob</th>\n",
       "      <th>wind_speed</th>\n",
       "      <th>radia_glob</th>\n",
       "      <th>wind_speed</th>\n",
       "    </tr>\n",
       "    <tr>\n",
       "      <th>time</th>\n",
       "      <th></th>\n",
       "      <th></th>\n",
       "      <th></th>\n",
       "      <th></th>\n",
       "    </tr>\n",
       "  </thead>\n",
       "  <tbody>\n",
       "    <tr>\n",
       "      <th>2022-01-01 00:00:00+00:00</th>\n",
       "      <td>0.0</td>\n",
       "      <td>3.6</td>\n",
       "      <td>0.0</td>\n",
       "      <td>4.9</td>\n",
       "    </tr>\n",
       "    <tr>\n",
       "      <th>2022-01-01 00:10:00+00:00</th>\n",
       "      <td>0.0</td>\n",
       "      <td>4.0</td>\n",
       "      <td>0.0</td>\n",
       "      <td>5.5</td>\n",
       "    </tr>\n",
       "    <tr>\n",
       "      <th>2022-01-01 00:20:00+00:00</th>\n",
       "      <td>0.0</td>\n",
       "      <td>3.8</td>\n",
       "      <td>0.0</td>\n",
       "      <td>4.8</td>\n",
       "    </tr>\n",
       "    <tr>\n",
       "      <th>2022-01-01 00:30:00+00:00</th>\n",
       "      <td>0.0</td>\n",
       "      <td>3.8</td>\n",
       "      <td>0.0</td>\n",
       "      <td>5.3</td>\n",
       "    </tr>\n",
       "    <tr>\n",
       "      <th>2022-01-01 00:40:00+00:00</th>\n",
       "      <td>0.0</td>\n",
       "      <td>3.8</td>\n",
       "      <td>0.0</td>\n",
       "      <td>5.9</td>\n",
       "    </tr>\n",
       "  </tbody>\n",
       "</table>\n",
       "</div>"
      ],
      "text/plain": [
       "station                        04250                 06188           \n",
       "parameter                 radia_glob wind_speed radia_glob wind_speed\n",
       "time                                                                 \n",
       "2022-01-01 00:00:00+00:00        0.0        3.6        0.0        4.9\n",
       "2022-01-01 00:10:00+00:00        0.0        4.0        0.0        5.5\n",
       "2022-01-01 00:20:00+00:00        0.0        3.8        0.0        4.8\n",
       "2022-01-01 00:30:00+00:00        0.0        3.8        0.0        5.3\n",
       "2022-01-01 00:40:00+00:00        0.0        3.8        0.0        5.9"
      ]
     },
     "execution_count": 17,
     "metadata": {},
     "output_type": "execute_result"
    }
   ],
   "source": [
    "# Specify the desired start and end time\n",
    "start_time = pd.Timestamp(2022, 1, 1)\n",
    "end_time = pd.Timestamp(2022, 1, 15)\n",
    "\n",
    "# Specify one or more station IDs or all_stations\n",
    "stationIds = ['04250', '06188']\n",
    "# Specify one or more parameter IDs or all_parameters\n",
    "parameterIds = ['radia_glob', 'wind_speed']\n",
    "\n",
    "# Derive datetime specifier string\n",
    "datetime_str = start_time.tz_localize('UTC').isoformat() + '/' + end_time.tz_localize('UTC').isoformat()\n",
    "\n",
    "dfs = []\n",
    "for station in stationIds:\n",
    "    for parameter in parameterIds:\n",
    "        # Specify query parameters\n",
    "        params = {\n",
    "            'api-key' : api_key,\n",
    "            'datetime' : datetime_str,\n",
    "            'stationId' : station,\n",
    "            'parameterId' : parameter,\n",
    "            'limit' : '300000',  # max limit\n",
    "        }\n",
    "\n",
    "        # Submit GET request with url and parameters\n",
    "        r = requests.get(DMI_URL, params=params)\n",
    "        # Extract JSON object\n",
    "        json = r.json() # Extract JSON object\n",
    "        # Convert JSON object to a MultiIndex DataFrame and add to list\n",
    "        dfi = pd.json_normalize(json['features'])\n",
    "        if dfi.empty is False:\n",
    "            dfi['time'] = pd.to_datetime(dfi['properties.observed'])\n",
    "            dfi[['station', 'parameter']] = station, parameter\n",
    "            dfi = dfi.set_index(['parameter', 'station', 'time'])\n",
    "            dfi = dfi['properties.value'].unstack(['station','parameter'])\n",
    "            dfs.append(dfi)\n",
    "\n",
    "df = pd.concat(dfs, axis='columns').sort_index()\n",
    "df.head()"
   ]
  },
  {
   "cell_type": "markdown",
   "metadata": {},
   "source": [
    "<br/>\n",
    "\n",
    "Due to poor design of the API, it is only possible to request one station or all stations, and similarly, it is only possible to request one parameter or all parameters. To be able to select a subset of stations or parameters it is therefore necessary to loop as shown above. This also avoids dealing with the rather low maximum amount of data that can be transferred for each request. The above implementation is most suitable for downloading a few stations and a few parameters, and will incur a significant performance penalty if downloading data for all stations.\n",
    "\n",
    "If the request was succesfull, the dataframe ``df`` now contains the requested data. The dataframe is a MultiIndex dataframe, as it has two column levels (station and parameter). The index is simply the observation time.\n",
    "\n",
    "MultiIndex dataframes are extremely convenient and versatile, though they do take some time getting used to. For example, to get the wind speed from the station 04250 for four days in December, the request would look like this:"
   ]
  },
  {
   "cell_type": "code",
   "execution_count": 18,
   "metadata": {},
   "outputs": [
    {
     "data": {
      "text/plain": [
       "time\n",
       "2022-01-05 00:00:00+00:00    9.2\n",
       "2022-01-05 00:10:00+00:00    7.5\n",
       "2022-01-05 00:20:00+00:00    6.1\n",
       "2022-01-05 00:30:00+00:00    4.4\n",
       "2022-01-05 00:40:00+00:00    4.4\n",
       "                            ... \n",
       "2022-01-14 23:20:00+00:00    5.5\n",
       "2022-01-14 23:30:00+00:00    4.7\n",
       "2022-01-14 23:40:00+00:00    4.8\n",
       "2022-01-14 23:50:00+00:00    5.0\n",
       "2022-01-15 00:00:00+00:00    4.4\n",
       "Freq: 10T, Name: (04250, wind_speed), Length: 1441, dtype: float64"
      ]
     },
     "execution_count": 18,
     "metadata": {},
     "output_type": "execute_result"
    }
   ],
   "source": [
    "df.loc['2022-01-05':, ('04250', 'wind_speed')]"
   ]
  },
  {
   "cell_type": "markdown",
   "metadata": {},
   "source": [
    "<br/>\n",
    "\n",
    "The last step is to visualize the data. As an example, we'll visualize the wind speed and global horizontal irradiance (GHI) for the station 04250."
   ]
  },
  {
   "cell_type": "code",
   "execution_count": 19,
   "metadata": {},
   "outputs": [
    {
     "data": {
      "text/plain": [
       "Text(0.5, 0, '')"
      ]
     },
     "execution_count": 19,
     "metadata": {},
     "output_type": "execute_result"
    },
    {
     "data": {
      "image/png": "[encoded data removed]",
      "text/plain": [
       "<Figure size 576x360 with 2 Axes>"
      ]
     },
     "metadata": {
      "needs_background": "light"
     },
     "output_type": "display_data"
    }
   ],
   "source": [
    "station = '04250'\n",
    "params = ['wind_speed', 'radia_glob']  # parameters to plot\n",
    "\n",
    "# Generate plot of data\n",
    "ax = df[station][params].plot(figsize=(8,5), legend=False, fontsize=12, rot=0, subplots=True)\n",
    "ax[0].set_ylabel('Air temperature [$^\\circ$C]', size=12)\n",
    "ax[1].set_ylabel('Global horizontal\\nirradiance [W/m$^2$]', size=12)\n",
    "ax[1].set_xlabel('', size=12)"
   ]
  },
  {
   "cell_type": "code",
   "execution_count": null,
   "metadata": {},
   "outputs": [],
   "source": []
  }
 ],
 "metadata": {
  "kernelspec": {
   "display_name": "Python 3 (ipykernel)",
   "language": "python",
   "name": "python3"
  },
  "language_info": {
   "codemirror_mode": {
    "name": "ipython",
    "version": 3
   },
   "file_extension": ".py",
   "mimetype": "text/x-python",
   "name": "python",
   "nbconvert_exporter": "python",
   "pygments_lexer": "ipython3",
   "version": "3.9.7"
  }
 },
 "nbformat": 4,
 "nbformat_minor": 4
}
