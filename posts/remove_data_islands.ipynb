{
 "cells": [
  {
   "cell_type": "markdown",
   "id": "dbaaf9c9-d6e1-468a-92f0-100396e4e7db",
   "metadata": {},
   "source": [
    "# Using groupby to remove 'data islands'\n",
    "As anyone who has worked with measurement data knows, there will always be some missing and errornous data, hence quality checking is an essential step. However, quality control methods remove data and don't always detect everything, often resulting in many short periods of questionable data called 'data islands'. In this blog post, I'll show you how you can remove data islands, based on a threshold minimum period length.\n",
    "\n",
    "Import necessary libraries:"
   ]
  },
  {
   "cell_type": "code",
   "execution_count": 1,
   "id": "d76ec1b7-ee41-4f01-8d63-fd8171ee3cf9",
   "metadata": {
    "tags": [
     "remove_cell"
    ]
   },
   "outputs": [],
   "source": [
    "import matplotlib.pyplot as plt\n",
    "import pandas as pd\n",
    "import numpy as np"
   ]
  },
  {
   "cell_type": "markdown",
   "id": "75be46d0-3cc7-457a-acd4-21172a1e36ee",
   "metadata": {},
   "source": [
    "Create a dataframe with fictional GHI data with multiple missing entires:"
   ]
  },
  {
   "cell_type": "code",
   "execution_count": 37,
   "id": "37a8e087-3c8d-44c1-a326-aca2ec097acc",
   "metadata": {},
   "outputs": [],
   "source": [
    "index = pd.date_range('2021-06-11 06', periods=720, freq='1min')\n",
    "\n",
    "GHI = -1000 * np.cos(2 * np.pi * np.linspace(0.25, 0.75 ,720))\n",
    "\n",
    "df = pd.DataFrame(index=index, data={'GHI': GHI})\n",
    "\n",
    "# remove periods of data\n",
    "df.loc['2021-06-11 09:50':'2021-06-11 09:55', 'GHI'] = np.nan\n",
    "df.loc['2021-06-11 10:00':'2021-06-11 10:25', 'GHI'] = np.nan\n",
    "df.loc['2021-06-11 10:35':'2021-06-11 10:40', 'GHI'] = np.nan\n",
    "df.loc['2021-06-11 10:45':'2021-06-11 11:20', 'GHI'] = np.nan\n",
    "df.loc['2021-06-11 11:30':'2021-06-11 12:40', 'GHI'] = np.nan\n",
    "df.loc['2021-06-11 15:30':'2021-06-11 15:50', 'GHI'] = np.nan"
   ]
  },
  {
   "cell_type": "markdown",
   "id": "a016096c-1dd8-4e62-9627-2777deeaaab7",
   "metadata": {},
   "source": [
    "Visualize the time series:"
   ]
  },
  {
   "cell_type": "code",
   "execution_count": 38,
   "id": "188e06b2-65d6-4795-a40c-14e2f5b58ab7",
   "metadata": {},
   "outputs": [
    {
     "data": {
      "text/plain": [
       "<AxesSubplot:>"
      ]
     },
     "execution_count": 38,
     "metadata": {},
     "output_type": "execute_result"
    },
    {
     "data": {
      "image/png": "[encoded data removed]",
      "text/plain": [
       "<Figure size 432x216 with 1 Axes>"
      ]
     },
     "metadata": {
      "needs_background": "light"
     },
     "output_type": "display_data"
    }
   ],
   "source": [
    "df['GHI'].plot(figsize=(6,3))"
   ]
  },
  {
   "cell_type": "markdown",
   "id": "e0f64cc9-3014-457b-8605-e361c225772f",
   "metadata": {},
   "source": [
    "As it's evident there are a lot of missing data around 11 am, and many short periods of data (data islands).\n",
    "\n",
    "For this particular application we would like to remove periods of data which are shorter than 30 minutes, as we suspect these periods may also be effected by whatever error source affected the missing/removed data.\n",
    "\n",
    "To achieve this, we will use `groupby` to aggregate the data into continious periods. Based on the length of each data period, we will assess whether to remove or keep the data.\n",
    "\n",
    "The first step is to define the start and stop of a data gap. Whether the data entry is missing or not is identified by the `.isna()`, which retuns a boolean Series. Then we apply `.diff()` which takes the difference between a time step and the previous values, so two consecutive values were missing, there would be no difference. However, if a value was missing and the previous value was not and vice versa, the difference would plus or minus one, signifying the start or end of a data period.\n",
    "\n",
    "By then taking the cumulative sum of the start/stop time series, each period is assigned a unique iteger, and we have now succesfully identified the different periods."
   ]
  },
  {
   "cell_type": "code",
   "execution_count": 39,
   "id": "8012e119-8887-4f7d-9df2-e7344cd2f071",
   "metadata": {},
   "outputs": [
    {
     "data": {
      "text/plain": [
       "<AxesSubplot:>"
      ]
     },
     "execution_count": 39,
     "metadata": {},
     "output_type": "execute_result"
    },
    {
     "data": {
      "image/png": "[encoded data removed]",
      "text/plain": [
       "<Figure size 432x216 with 1 Axes>"
      ]
     },
     "metadata": {
      "needs_background": "light"
     },
     "output_type": "display_data"
    }
   ],
   "source": [
    "df['gap_start_stop'] = df['GHI'].isna().diff()\n",
    "\n",
    "df['gap_start_stop_cumsum'] = df['gap_start_stop'].cumsum()\n",
    "\n",
    "df['gap_start_stop_cumsum'].plot(figsize=(6,3))"
   ]
  },
  {
   "cell_type": "markdown",
   "id": "da78b3fd-7970-4899-9728-cf29856ad53f",
   "metadata": {},
   "source": [
    "The next step is then to determine whether a period should be removed or not. This is where the `groupby` operation becomes extremely handy! We group the data into different periods based on the unique identifier `gap_start_stop_cumsum` and for each period we then assess whether there number of entires is greater than our threshold of 30.\n",
    "\n",
    "For the periods which have less than 30 entires, we see the values to nan."
   ]
  },
  {
   "cell_type": "code",
   "execution_count": 40,
   "id": "eb75b4e4-d7b2-41f7-a816-440dcaa21161",
   "metadata": {},
   "outputs": [],
   "source": [
    "df['ones'] = 1  # dummy column used for groupby\n",
    "\n",
    "threshold = 30  # threshold value, here set to 30 minutes\n",
    "\n",
    "threshold_mask = (df.groupby('gap_start_stop_cumsum')['ones'].transform('count') < threshold)\n",
    "\n",
    "df.loc[threshold_mask, 'GHI'] = np.nan  # set periods shorter than 30 minutes to nan"
   ]
  },
  {
   "cell_type": "markdown",
   "id": "7cca3f05-5d0e-46a0-a36a-c63940973d82",
   "metadata": {},
   "source": [
    "To verify that the data islands have been removed, we can visualize the data again:"
   ]
  },
  {
   "cell_type": "code",
   "execution_count": 41,
   "id": "53ce0099-6b97-4f17-9085-f888cf888bed",
   "metadata": {},
   "outputs": [
    {
     "data": {
      "text/plain": [
       "<AxesSubplot:>"
      ]
     },
     "execution_count": 41,
     "metadata": {},
     "output_type": "execute_result"
    },
    {
     "data": {
      "image/png": "[encoded data removed]",
      "text/plain": [
       "<Figure size 432x216 with 1 Axes>"
      ]
     },
     "metadata": {
      "needs_background": "light"
     },
     "output_type": "display_data"
    }
   ],
   "source": [
    "df['GHI'].plot(figsize=(6,3))"
   ]
  },
  {
   "cell_type": "markdown",
   "id": "d2ea1d4b-52ba-46f9-8d1a-77b142294624",
   "metadata": {},
   "source": [
    "It is clear now that all the short periods of data has been removed and we are more confident in the validity of the data we have.\n",
    "\n",
    "Notice how the long period of data between the two gaps has not been removed, as the period is longer than the threshold."
   ]
  },
  {
   "cell_type": "markdown",
   "id": "0c683a29-a825-45fd-8868-e83f5170e2f4",
   "metadata": {
    "tags": [
     "remove_cell"
    ]
   },
   "source": [
    "## Part 1: Removing days with 30% flagged data or more"
   ]
  },
  {
   "cell_type": "code",
   "execution_count": 73,
   "id": "1c5c5fd5-ce9e-4e69-aad0-5d44288604fd",
   "metadata": {
    "tags": [
     "remove_cell"
    ]
   },
   "outputs": [
    {
     "data": {
      "text/plain": [
       "array([<AxesSubplot:>, <AxesSubplot:>], dtype=object)"
      ]
     },
     "execution_count": 73,
     "metadata": {},
     "output_type": "execute_result"
    },
    {
     "data": {
      "image/png": "[encoded data removed]",
      "text/plain": [
       "<Figure size 432x288 with 2 Axes>"
      ]
     },
     "metadata": {
      "needs_background": "light"
     },
     "output_type": "display_data"
    }
   ],
   "source": [
    "minutes = 1440*3\n",
    "df = pd.DataFrame(index=pd.date_range('2021-06-11', periods=minutes, freq='1min'))\n",
    "df['GHI'] = -1000*np.cos(2*np.pi*(np.arange(periods))/1440)\n",
    "df['GHI'] = df['GHI'].clip(lower=0)\n",
    "\n",
    "df['usable'] = 1\n",
    "df.loc['2021-06-11 10:00':'2021-06-11 11:25', 'usable'] = 0\n",
    "df.loc['2021-06-11 11:45':'2021-06-11 15:20', 'usable'] = 0\n",
    "df.loc['2021-06-12 15:39':'2021-06-12 15:40', 'usable'] = 0\n",
    "\n",
    "df = df[df['GHI']>0]  # equivalent to only daytime periods\n",
    "\n",
    "df.plot(style='.', subplots=True, sharex=True)"
   ]
  },
  {
   "cell_type": "code",
   "execution_count": null,
   "id": "7ec1401a-a792-4ed0-a429-69af45ff3292",
   "metadata": {
    "tags": [
     "remove_cell"
    ]
   },
   "outputs": [],
   "source": []
  },
  {
   "cell_type": "code",
   "execution_count": 2,
   "id": "8712e130-eb60-419e-a91e-8448273f654f",
   "metadata": {
    "tags": [
     "remove_cell"
    ]
   },
   "outputs": [],
   "source": []
  },
  {
   "cell_type": "code",
   "execution_count": 2,
   "id": "4ebf0081-e62a-4729-99a0-04da30e26ffb",
   "metadata": {
    "tags": [
     "remove_cell"
    ]
   },
   "outputs": [],
   "source": []
  },
  {
   "cell_type": "code",
   "execution_count": 2,
   "id": "153e225c-0c02-45e2-bf5e-368df6bc4b33",
   "metadata": {
    "tags": [
     "remove_cell"
    ]
   },
   "outputs": [],
   "source": []
  },
  {
   "cell_type": "code",
   "execution_count": 2,
   "id": "8f124015-5a47-4f4f-baaf-30fa2eb03a8c",
   "metadata": {
    "tags": [
     "remove_cell"
    ]
   },
   "outputs": [],
   "source": [
    "index = pd.date_range('2021-06-11 06', periods=720, freq='1min')\n",
    "GHI = -1000*np.cos(2*np.pi*np.linspace(0.25,0.75,720))\n",
    "df = pd.DataFrame(index=index, data={'GHI': GHI})"
   ]
  },
  {
   "cell_type": "markdown",
   "id": "f0894d07-01b2-4d87-bf8f-a30d3420d968",
   "metadata": {
    "tags": [
     "remove_cell"
    ]
   },
   "source": [
    "Add a column called QC_flag, and add four flagged periods:"
   ]
  },
  {
   "cell_type": "code",
   "execution_count": 3,
   "id": "def53953-27c8-427d-8d72-3ffc36b61d6b",
   "metadata": {
    "tags": [
     "remove_cell"
    ]
   },
   "outputs": [],
   "source": [
    "df['QC_flag'] = 0\n",
    "df.loc['2021-06-11 10:00':'2021-06-11 10:25', 'QC_flag'] = 1\n",
    "df.loc['2021-06-11 10:45':'2021-06-11 11:20', 'QC_flag'] = 1\n",
    "df.loc['2021-06-11 11:30':'2021-06-11 12:40', 'QC_flag'] = 1\n",
    "df.loc['2021-06-11 15:39':'2021-06-11 15:40', 'QC_flag'] = 1"
   ]
  },
  {
   "cell_type": "markdown",
   "id": "3889634e-20ae-486e-96ae-f708f889c01f",
   "metadata": {
    "tags": [
     "remove_cell"
    ]
   },
   "source": [
    "Plot GHI data and the QC_flag column:"
   ]
  },
  {
   "cell_type": "code",
   "execution_count": 4,
   "id": "f980f181-84be-4a62-937f-4358a909dd09",
   "metadata": {
    "tags": [
     "remove_cell"
    ]
   },
   "outputs": [
    {
     "data": {
      "text/plain": [
       "<matplotlib.legend.Legend at 0x1d4a14fc8e0>"
      ]
     },
     "execution_count": 4,
     "metadata": {},
     "output_type": "execute_result"
    },
    {
     "data": {
      "image/png": "[encoded data removed]",
      "text/plain": [
       "<Figure size 504x216 with 2 Axes>"
      ]
     },
     "metadata": {
      "needs_background": "light"
     },
     "output_type": "display_data"
    }
   ],
   "source": [
    "fig, ax = plt.subplots(figsize=(7,3))\n",
    "twinx = ax.twinx()\n",
    "df['GHI'].plot(ax=ax, c='b', ylim=[-1,1100])\n",
    "df['QC_flag'].plot(ax=twinx, c='r', ylim=[-0.01, 1.05])\n",
    "ax.legend(loc='upper left')\n",
    "twinx.legend(loc='upper right')"
   ]
  },
  {
   "cell_type": "markdown",
   "id": "594e7bfd-0282-4632-abe6-c6a93fde64c8",
   "metadata": {
    "tags": [
     "remove_cell"
    ]
   },
   "source": [
    "Now we would like to remove the small periods between the flags, as there is a high probability that these periods are in fact also errornous, but might just not have been caught by the automatic QC method.\n",
    "\n",
    "In this case we will add also flag any unflagged period which is less than 60 minutes:"
   ]
  },
  {
   "cell_type": "code",
   "execution_count": 5,
   "id": "89659972-2bd6-4051-9080-e0d21486a776",
   "metadata": {
    "tags": [
     "remove_cell"
    ]
   },
   "outputs": [],
   "source": [
    "df['gap_start_stop'] = 0\n",
    "df.loc[df['QC_flag'].diff().abs()==1, 'gap_start_stop'] = 1\n",
    "df['gap_start_stop_cumsum'] = df['gap_start_stop'].cumsum()\n",
    "\n",
    "df['ones'] = 1  # dummy column used for groupby\n",
    "\n",
    "df.loc[(df.groupby('gap_start_stop_cumsum')['ones'].transform('count') < 60) & (df['QC_flag']==0), 'QC_flag'] = 1"
   ]
  },
  {
   "cell_type": "markdown",
   "id": "d4530aad-87d8-440b-a6c7-d19485f4be3a",
   "metadata": {
    "tags": [
     "remove_cell"
    ]
   },
   "source": [
    "Create the same plot again, this time noticing how the QC_flag variable differs:"
   ]
  },
  {
   "cell_type": "code",
   "execution_count": 6,
   "id": "c4f111db-f5d6-4ace-9fd8-4cc8549b89a0",
   "metadata": {
    "tags": [
     "remove_cell"
    ]
   },
   "outputs": [
    {
     "data": {
      "text/plain": [
       "<matplotlib.legend.Legend at 0x1d4a173e760>"
      ]
     },
     "execution_count": 6,
     "metadata": {},
     "output_type": "execute_result"
    },
    {
     "data": {
      "image/png": "[encoded data removed]",
      "text/plain": [
       "<Figure size 504x216 with 2 Axes>"
      ]
     },
     "metadata": {
      "needs_background": "light"
     },
     "output_type": "display_data"
    }
   ],
   "source": [
    "fig, ax = plt.subplots(figsize=(7,3))\n",
    "twinx = ax.twinx()\n",
    "df['GHI'].plot(ax=ax, c='b', ylim=[-1,1100])\n",
    "df['QC_flag'].plot(ax=twinx, c='r', ylim=[-0.01, 1.05])\n",
    "ax.legend(loc='upper left')\n",
    "twinx.legend(loc='upper right')"
   ]
  },
  {
   "cell_type": "code",
   "execution_count": null,
   "id": "520b3687-716f-4530-a708-183188e4270d",
   "metadata": {
    "tags": [
     "remove_cell"
    ]
   },
   "outputs": [],
   "source": []
  }
 ],
 "metadata": {
  "date": "2021-06-09",
  "kernelspec": {
   "display_name": "Python 3",
   "language": "python",
   "name": "python3"
  },
  "language_info": {
   "codemirror_mode": {
    "name": "ipython",
    "version": 3
   },
   "file_extension": ".py",
   "mimetype": "text/x-python",
   "name": "python",
   "nbconvert_exporter": "python",
   "pygments_lexer": "ipython3",
   "version": "3.9.5"
  },
  "tags": "jupyter",
  "title": "Using gropuby to remove 'data islands'",
  "toc-autonumbering": false,
  "toc-showcode": true,
  "toc-showmarkdowntxt": true,
  "toc-showtags": false
 },
 "nbformat": 4,
 "nbformat_minor": 5
}
