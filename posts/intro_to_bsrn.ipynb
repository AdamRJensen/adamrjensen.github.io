{
 "cells": [
  {
   "cell_type": "markdown",
   "metadata": {},
   "source": [
    "# An introduction to the Baseline Surface Radiation Network (BSRN)\n",
    "\n",
    "```{post} 2021-07-05\n",
    ":tags: pvlib, solar, open science, gsoc\n",
    "```\n",
    "\n",
    "Ground measured irradiance data is often referred to as \"ground truth\", due to being used as reference data for validating lesser accurate satellite derived and modelled irradiance data. However, making high-quality solar radiation measurements is expensive and requires weekly maintenance, hence only few of such stations exists, often operated by national meterological institutions.\n"
   ]
  },
  {
   "cell_type": "code",
   "execution_count": null,
   "metadata": {},
   "outputs": [],
   "source": []
  },
  {
   "cell_type": "code",
   "execution_count": 4,
   "metadata": {},
   "outputs": [
    {
     "data": {
      "text/plain": [
       "'6.4.0'"
      ]
     },
     "execution_count": 4,
     "metadata": {},
     "output_type": "execute_result"
    }
   ],
   "source": [
    "import notebook\n",
    "notebook.__version__"
   ]
  },
  {
   "cell_type": "code",
   "execution_count": null,
   "metadata": {},
   "outputs": [],
   "source": []
  }
 ],
 "metadata": {
  "date": "2021-07-05",
  "kernelspec": {
   "display_name": "Python 3",
   "language": "python",
   "name": "python3"
  },
  "language_info": {
   "codemirror_mode": {
    "name": "ipython",
    "version": 3
   },
   "file_extension": ".py",
   "mimetype": "text/x-python",
   "name": "python",
   "nbconvert_exporter": "python",
   "pygments_lexer": "ipython3",
   "version": "3.9.4"
  },
  "title": "An introduction to the Baseline Surface Radiation Network (BSNR)"
 },
 "nbformat": 4,
 "nbformat_minor": 4
}
